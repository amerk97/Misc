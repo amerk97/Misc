{
 "cells": [
  {
   "cell_type": "code",
   "execution_count": 41,
   "metadata": {},
   "outputs": [
    {
     "name": "stdout",
     "output_type": "stream",
     "text": [
      "Crack size for brittle fracture: 14.839699999998476 mm\n",
      "F is 1.0497815081582362\n",
      "Alpha is 0.2967939999999695\n"
     ]
    }
   ],
   "source": [
    "import numpy as np\n",
    "import matplotlib as plt\n",
    "import math as mt\n",
    "\n",
    "t = 4\n",
    "b = 50\n",
    "K_ic = 34 \n",
    "S_max = 150\n",
    "\n",
    "alf = 0\n",
    "FF = 0\n",
    "KK = 0\n",
    "\n",
    "def alpha(a):\n",
    "    return a/b\n",
    "\n",
    "def F(alph1):\n",
    "    return ((1-0.5*alph1+0.326*alph1**2)/(np.sqrt(1-alph1)))\n",
    "\n",
    "def K(F1, a):\n",
    "    return F1*S_max*np.sqrt(np.pi*a)\n",
    "\n",
    "for a in np.arange(1, 30, 0.0001):\n",
    "    alf = alpha(a)\n",
    "    FF = F(alf)\n",
    "    KK = K(FF, a/1000)\n",
    "    if((K_ic - 0.0001) < KK < (K_ic + 0.0001)):\n",
    "        print('Crack size for brittle fracture: ' + str(a) + ' mm')\n",
    "        print('F is ' + str(FF))\n",
    "        print('Alpha is ' + str(alf))\n",
    "        break    "
   ]
  },
  {
   "cell_type": "code",
   "execution_count": null,
   "metadata": {},
   "outputs": [],
   "source": []
  },
  {
   "cell_type": "code",
   "execution_count": null,
   "metadata": {},
   "outputs": [],
   "source": []
  }
 ],
 "metadata": {
  "kernelspec": {
   "display_name": "Python 3",
   "language": "python",
   "name": "python3"
  },
  "language_info": {
   "codemirror_mode": {
    "name": "ipython",
    "version": 3
   },
   "file_extension": ".py",
   "mimetype": "text/x-python",
   "name": "python",
   "nbconvert_exporter": "python",
   "pygments_lexer": "ipython3",
   "version": "3.8.3"
  }
 },
 "nbformat": 4,
 "nbformat_minor": 4
}
