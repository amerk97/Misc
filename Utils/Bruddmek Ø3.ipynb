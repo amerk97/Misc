{
 "cells": [
  {
   "cell_type": "code",
   "execution_count": 1,
   "metadata": {},
   "outputs": [],
   "source": [
    "#Løse oppgave b) vha. iterering\n"
   ]
  },
  {
   "cell_type": "code",
   "execution_count": 34,
   "metadata": {},
   "outputs": [
    {
     "name": "stdout",
     "output_type": "stream",
     "text": [
      "0.006472\n",
      "0.006473\n",
      "0.006474\n"
     ]
    }
   ],
   "source": [
    "import math as mt\n",
    "\n",
    "stress = 7.5 #Nominal stress in MPa\n",
    "\n",
    "def p1(alf): #sqrt part of F eq.\n",
    "    return mt.sqrt((2/(mt.pi*alf))*mt.tan((mt.pi*alf)/2))\n",
    "\n",
    "def p2(alf): #upper part of rest of F eq.\n",
    "    return (0.923+0.199*(1-mt.sin(mt.pi*alf/2)**4))\n",
    "\n",
    "def p3(alf): #lower part of rest of F eq. \n",
    "    return mt.cos(mt.pi*alf/2)\n",
    "\n",
    "def K(a): #SIF, a is crack length\n",
    "    alph = a/20\n",
    "    F = p1(alph)*p2(alph)/p3(alph)\n",
    "    return F*stress*mt.sqrt(mt.pi*a)\n",
    "        \n",
    "def Err(e):\n",
    "    return (e-1.2)/1.2\n",
    "\n",
    "#Iterate until K=1.2, then get a-value.\n",
    "v = []\n",
    "n = 1000000\n",
    "for i in range(1, n):\n",
    "    if(abs(Err(K(i/n))) < 0.0001):\n",
    "        v.append(K(i/n))\n",
    "        print(i/n)\n",
    "\n",
    "#print(sum(v)/len(v))\n",
    "    \n"
   ]
  },
  {
   "cell_type": "code",
   "execution_count": null,
   "metadata": {},
   "outputs": [],
   "source": []
  },
  {
   "cell_type": "code",
   "execution_count": null,
   "metadata": {},
   "outputs": [],
   "source": []
  }
 ],
 "metadata": {
  "kernelspec": {
   "display_name": "Python 3",
   "language": "python",
   "name": "python3"
  },
  "language_info": {
   "codemirror_mode": {
    "name": "ipython",
    "version": 3
   },
   "file_extension": ".py",
   "mimetype": "text/x-python",
   "name": "python",
   "nbconvert_exporter": "python",
   "pygments_lexer": "ipython3",
   "version": "3.8.3"
  }
 },
 "nbformat": 4,
 "nbformat_minor": 4
}
